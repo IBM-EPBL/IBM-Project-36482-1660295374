{
  "cells": [
    {
      "cell_type": "markdown",
      "id": "ca3c7471",
      "metadata": {
        "id": "ca3c7471"
      },
      "source": [
        "# Customer Segmentation Analysis"
      ]
    },
    {
      "cell_type": "markdown",
      "id": "f69c52d9",
      "metadata": {
        "id": "f69c52d9"
      },
      "source": [
        "# Importing the necessary libraries"
      ]
    },
    {
      "cell_type": "code",
      "execution_count": null,
      "id": "00aae942",
      "metadata": {
        "id": "00aae942"
      },
      "outputs": [],
      "source": [
        "import numpy as np\n",
        "import pandas as pd\n",
        "import matplotlib.pyplot as plt\n",
        "import seaborn as sns\n",
        "\n",
        "import warnings\n",
        "warnings.filterwarnings(\"ignore\")"
      ]
    },
    {
      "cell_type": "markdown",
      "id": "eb2bf286",
      "metadata": {
        "id": "eb2bf286"
      },
      "source": [
        "# 1&2. Downloading and Loading the Dataset"
      ]
    },
    {
      "cell_type": "code",
      "execution_count": null,
      "id": "330d83d2",
      "metadata": {
        "id": "330d83d2",
        "outputId": "ecfdc0d8-16ab-4f34-8bfe-b4a6ec209c3e"
      },
      "outputs": [
        {
          "data": {
            "text/html": [
              "<div>\n",
              "<style scoped>\n",
              "    .dataframe tbody tr th:only-of-type {\n",
              "        vertical-align: middle;\n",
              "    }\n",
              "\n",
              "    .dataframe tbody tr th {\n",
              "        vertical-align: top;\n",
              "    }\n",
              "\n",
              "    .dataframe thead th {\n",
              "        text-align: right;\n",
              "    }\n",
              "</style>\n",
              "<table border=\"1\" class=\"dataframe\">\n",
              "  <thead>\n",
              "    <tr style=\"text-align: right;\">\n",
              "      <th></th>\n",
              "      <th>CustomerID</th>\n",
              "      <th>Gender</th>\n",
              "      <th>Age</th>\n",
              "      <th>Annual Income (k$)</th>\n",
              "      <th>Spending Score (1-100)</th>\n",
              "    </tr>\n",
              "  </thead>\n",
              "  <tbody>\n",
              "    <tr>\n",
              "      <th>0</th>\n",
              "      <td>1</td>\n",
              "      <td>Male</td>\n",
              "      <td>19</td>\n",
              "      <td>15</td>\n",
              "      <td>39</td>\n",
              "    </tr>\n",
              "    <tr>\n",
              "      <th>1</th>\n",
              "      <td>2</td>\n",
              "      <td>Male</td>\n",
              "      <td>21</td>\n",
              "      <td>15</td>\n",
              "      <td>81</td>\n",
              "    </tr>\n",
              "    <tr>\n",
              "      <th>2</th>\n",
              "      <td>3</td>\n",
              "      <td>Female</td>\n",
              "      <td>20</td>\n",
              "      <td>16</td>\n",
              "      <td>6</td>\n",
              "    </tr>\n",
              "    <tr>\n",
              "      <th>3</th>\n",
              "      <td>4</td>\n",
              "      <td>Female</td>\n",
              "      <td>23</td>\n",
              "      <td>16</td>\n",
              "      <td>77</td>\n",
              "    </tr>\n",
              "    <tr>\n",
              "      <th>4</th>\n",
              "      <td>5</td>\n",
              "      <td>Female</td>\n",
              "      <td>31</td>\n",
              "      <td>17</td>\n",
              "      <td>40</td>\n",
              "    </tr>\n",
              "  </tbody>\n",
              "</table>\n",
              "</div>"
            ],
            "text/plain": [
              "   CustomerID  Gender  Age  Annual Income (k$)  Spending Score (1-100)\n",
              "0           1    Male   19                  15                      39\n",
              "1           2    Male   21                  15                      81\n",
              "2           3  Female   20                  16                       6\n",
              "3           4  Female   23                  16                      77\n",
              "4           5  Female   31                  17                      40"
            ]
          },
          "execution_count": 3,
          "metadata": {},
          "output_type": "execute_result"
        }
      ],
      "source": [
        "data = pd.read_csv('E:\\IBM\\RANJITHAA ASSIGNMENT 4\\Mall_Customers.csv')\n",
        "data.head()"
      ]
    },
    {
      "cell_type": "markdown",
      "id": "46cef475",
      "metadata": {
        "id": "46cef475"
      },
      "source": [
        "# 3.Performing Visualizations"
      ]
    },
    {
      "cell_type": "markdown",
      "id": "ae4ba6a2",
      "metadata": {
        "id": "ae4ba6a2"
      },
      "source": [
        "# 3(i)Univariate Analysis"
      ]
    },
    {
      "cell_type": "markdown",
      "id": "f934af9a",
      "metadata": {
        "id": "f934af9a"
      },
      "source": [
        "# Histplot"
      ]
    },
    {
      "cell_type": "code",
      "execution_count": null,
      "id": "c32d88f9",
      "metadata": {
        "id": "c32d88f9",
        "outputId": "3e41e6ec-f49d-49d5-e220-1eb0d0a8468e"
      },
      "outputs": [
        {
          "data": {
            "text/plain": [
              "<AxesSubplot:xlabel='Annual Income (k$)', ylabel='Count'>"
            ]
          },
          "execution_count": 5,
          "metadata": {},
          "output_type": "execute_result"
        },
        {
          "data": {
            "image/png": "[encoded data removed]",
            "text/plain": [
              "<Figure size 432x288 with 1 Axes>"
            ]
          },
          "metadata": {
            "needs_background": "light"
          },
          "output_type": "display_data"
        }
      ],
      "source": [
        "sns.histplot(data['Annual Income (k$)'], color=\"skyblue\")"
      ]
    },
    {
      "cell_type": "markdown",
      "id": "672edc1e",
      "metadata": {
        "id": "672edc1e"
      },
      "source": [
        "# Box Plot"
      ]
    },
    {
      "cell_type": "code",
      "execution_count": null,
      "id": "bf814533",
      "metadata": {
        "id": "bf814533",
        "outputId": "b78b0b42-6cfd-4c93-d57a-0791fe41e48c"
      },
      "outputs": [
        {
          "data": {
            "text/plain": [
              "<AxesSubplot:xlabel='Annual Income (k$)'>"
            ]
          },
          "execution_count": 6,
          "metadata": {},
          "output_type": "execute_result"
        },
        {
          "data": {
            "image/png": "[encoded data removed]",
            "text/plain": [
              "<Figure size 432x288 with 1 Axes>"
            ]
          },
          "metadata": {
            "needs_background": "light"
          },
          "output_type": "display_data"
        }
      ],
      "source": [
        "sns.boxplot(data['Annual Income (k$)'], color=\"red\")"
      ]
    },
    {
      "cell_type": "markdown",
      "id": "e16ccd5d",
      "metadata": {
        "id": "e16ccd5d"
      },
      "source": [
        "# Dist Plot"
      ]
    },
    {
      "cell_type": "code",
      "execution_count": null,
      "id": "cc5e1005",
      "metadata": {
        "id": "cc5e1005",
        "outputId": "ab476440-88ec-4d0c-b551-f74dfb31f575"
      },
      "outputs": [
        {
          "data": {
            "text/plain": [
              "<AxesSubplot:xlabel='Annual Income (k$)', ylabel='Density'>"
            ]
          },
          "execution_count": 7,
          "metadata": {},
          "output_type": "execute_result"
        },
        {
          "data": {
            "image/png": "[encoded data removed]",
            "text/plain": [
              "<Figure size 432x288 with 1 Axes>"
            ]
          },
          "metadata": {
            "needs_background": "light"
          },
          "output_type": "display_data"
        }
      ],
      "source": [
        "sns.distplot(data['Annual Income (k$)'], color=\"blue\")"
      ]
    },
    {
      "cell_type": "markdown",
      "id": "b8571d1c",
      "metadata": {
        "id": "b8571d1c"
      },
      "source": [
        "# 3(ii)Bi-variate Analysis"
      ]
    },
    {
      "cell_type": "markdown",
      "id": "0dfc706d",
      "metadata": {
        "id": "0dfc706d"
      },
      "source": [
        "# Barplot"
      ]
    },
    {
      "cell_type": "code",
      "execution_count": null,
      "id": "fbe94c95",
      "metadata": {
        "id": "fbe94c95",
        "outputId": "bbf24d26-c653-401c-fc72-d657f573814b"
      },
      "outputs": [
        {
          "data": {
            "text/plain": [
              "<AxesSubplot:xlabel='Age', ylabel='Annual Income (k$)'>"
            ]
          },
          "execution_count": 8,
          "metadata": {},
          "output_type": "execute_result"
        },
        {
          "data": {
            "image/png": "[encoded data removed]",
            "text/plain": [
              "<Figure size 1152x432 with 1 Axes>"
            ]
          },
          "metadata": {
            "needs_background": "light"
          },
          "output_type": "display_data"
        }
      ],
      "source": [
        "plt.figure(figsize=(16,6))\n",
        "sns.barplot(data['Age'],data['Annual Income (k$)'])"
      ]
    },
    {
      "cell_type": "markdown",
      "id": "24ed524d",
      "metadata": {
        "id": "24ed524d"
      },
      "source": [
        "# Lineplot"
      ]
    },
    {
      "cell_type": "code",
      "execution_count": null,
      "id": "faf7e07b",
      "metadata": {
        "id": "faf7e07b",
        "outputId": "24596239-ac5c-412c-d110-529f2a164156"
      },
      "outputs": [
        {
          "data": {
            "text/plain": [
              "<AxesSubplot:xlabel='Annual Income (k$)', ylabel='Spending Score (1-100)'>"
            ]
          },
          "execution_count": 9,
          "metadata": {},
          "output_type": "execute_result"
        },
        {
          "data": {
            "image/png": "[encoded data removed]",
            "text/plain": [
              "<Figure size 432x288 with 1 Axes>"
            ]
          },
          "metadata": {
            "needs_background": "light"
          },
          "output_type": "display_data"
        }
      ],
      "source": [
        "sns.lineplot(data['Annual Income (k$)'], data['Spending Score (1-100)'], color=\"darkgreen\")"
      ]
    },
    {
      "cell_type": "markdown",
      "id": "6d47f46a",
      "metadata": {
        "id": "6d47f46a"
      },
      "source": [
        "# Scatter plot (Age vs Spending Score)"
      ]
    },
    {
      "cell_type": "code",
      "execution_count": null,
      "id": "1836c9be",
      "metadata": {
        "id": "1836c9be",
        "outputId": "9f87b0de-1a94-4c24-8585-f7bd6154665c"
      },
      "outputs": [
        {
          "data": {
            "text/plain": [
              "<AxesSubplot:xlabel='Spending Score (1-100)', ylabel='Age'>"
            ]
          },
          "execution_count": 11,
          "metadata": {},
          "output_type": "execute_result"
        },
        {
          "data": {
            "image/png": "[encoded data removed]",
            "text/plain": [
              "<Figure size 432x288 with 1 Axes>"
            ]
          },
          "metadata": {
            "needs_background": "light"
          },
          "output_type": "display_data"
        }
      ],
      "source": [
        "sns.scatterplot(data['Spending Score (1-100)'], data['Age'], hue = data['Gender'])"
      ]
    },
    {
      "cell_type": "markdown",
      "id": "be42c46b",
      "metadata": {
        "id": "be42c46b"
      },
      "source": [
        "# Gender vs Age Distribution"
      ]
    },
    {
      "cell_type": "code",
      "execution_count": null,
      "id": "dab02dcb",
      "metadata": {
        "id": "dab02dcb",
        "outputId": "a37308af-e506-4790-8cac-b4550966a469"
      },
      "outputs": [
        {
          "data": {
            "image/png": "[encoded data removed]",
            "text/plain": [
              "<Figure size 720x720 with 1 Axes>"
            ]
          },
          "metadata": {
            "needs_background": "light"
          },
          "output_type": "display_data"
        }
      ],
      "source": [
        "temp = pd.concat([data['Age'], data['Gender']], axis=1)\n",
        "\n",
        "f, ax = plt.subplots(figsize=(10,10))\n",
        "fig = sns.boxenplot(x='Gender', y=\"Age\", data=data)\n",
        "fig.axis(ymin=0, ymax=100);"
      ]
    },
    {
      "cell_type": "markdown",
      "id": "b8e59afe",
      "metadata": {
        "id": "b8e59afe"
      },
      "source": [
        "# Annual Income vs Gender Countplot"
      ]
    },
    {
      "cell_type": "code",
      "execution_count": null,
      "id": "0fe06a70",
      "metadata": {
        "id": "0fe06a70",
        "outputId": "dc9b8769-fa39-41d9-ba85-077047a41de7"
      },
      "outputs": [
        {
          "data": {
            "text/plain": [
              "<AxesSubplot:xlabel='Gender', ylabel='Annual Income (k$)'>"
            ]
          },
          "execution_count": 13,
          "metadata": {},
          "output_type": "execute_result"
        },
        {
          "data": {
            "image/png": "[encoded data removed]",
            "text/plain": [
              "<Figure size 432x288 with 1 Axes>"
            ]
          },
          "metadata": {
            "needs_background": "light"
          },
          "output_type": "display_data"
        }
      ],
      "source": [
        "sns.boxplot(x=data['Gender'],y=data['Annual Income (k$)'])"
      ]
    },
    {
      "cell_type": "markdown",
      "id": "8a6c3ef0",
      "metadata": {
        "id": "8a6c3ef0"
      },
      "source": [
        "# 3(iii)Multi-variate Analysis"
      ]
    },
    {
      "cell_type": "code",
      "execution_count": null,
      "id": "c6f11a56",
      "metadata": {
        "id": "c6f11a56",
        "outputId": "a6adb9c6-8ec3-4308-d197-63b22b0484c0"
      },
      "outputs": [
        {
          "data": {
            "text/plain": [
              "<seaborn.axisgrid.PairGrid at 0x26c7a9c5580>"
            ]
          },
          "execution_count": 14,
          "metadata": {},
          "output_type": "execute_result"
        },
        {
          "data": {
            "image/png": "[encoded data removed]",
            "text/plain": [
              "<Figure size 540x540 with 12 Axes>"
            ]
          },
          "metadata": {
            "needs_background": "light"
          },
          "output_type": "display_data"
        }
      ],
      "source": [
        "sns.pairplot(data=data[[\"Age\", \"Gender\",\"Spending Score (1-100)\",\"Annual Income (k$)\"]])"
      ]
    },
    {
      "cell_type": "markdown",
      "id": "bb76b346",
      "metadata": {
        "id": "bb76b346"
      },
      "source": [
        "# Correlation between the different attributes"
      ]
    },
    {
      "cell_type": "code",
      "execution_count": null,
      "id": "ee0fb741",
      "metadata": {
        "id": "ee0fb741",
        "outputId": "56d81325-5c7f-4520-c94b-6c685bbbdbee"
      },
      "outputs": [
        {
          "data": {
            "text/plain": [
              "<AxesSubplot:>"
            ]
          },
          "execution_count": 15,
          "metadata": {},
          "output_type": "execute_result"
        },
        {
          "data": {
            "image/png": "[encoded data removed]",
            "text/plain": [
              "<Figure size 432x288 with 2 Axes>"
            ]
          },
          "metadata": {
            "needs_background": "light"
          },
          "output_type": "display_data"
        }
      ],
      "source": [
        "sns.heatmap(data.corr(),annot=True)"
      ]
    },
    {
      "cell_type": "markdown",
      "id": "4ae51f01",
      "metadata": {
        "id": "4ae51f01"
      },
      "source": [
        "# 4.Perform descriptive statistics on the dataset\n"
      ]
    },
    {
      "cell_type": "code",
      "execution_count": null,
      "id": "dcb642e2",
      "metadata": {
        "id": "dcb642e2",
        "outputId": "0198a5b9-4654-4b2f-e450-48962c2eb685"
      },
      "outputs": [
        {
          "data": {
            "text/html": [
              "<div>\n",
              "<style scoped>\n",
              "    .dataframe tbody tr th:only-of-type {\n",
              "        vertical-align: middle;\n",
              "    }\n",
              "\n",
              "    .dataframe tbody tr th {\n",
              "        vertical-align: top;\n",
              "    }\n",
              "\n",
              "    .dataframe thead th {\n",
              "        text-align: right;\n",
              "    }\n",
              "</style>\n",
              "<table border=\"1\" class=\"dataframe\">\n",
              "  <thead>\n",
              "    <tr style=\"text-align: right;\">\n",
              "      <th></th>\n",
              "      <th>CustomerID</th>\n",
              "      <th>Age</th>\n",
              "      <th>Annual Income (k$)</th>\n",
              "      <th>Spending Score (1-100)</th>\n",
              "    </tr>\n",
              "  </thead>\n",
              "  <tbody>\n",
              "    <tr>\n",
              "      <th>count</th>\n",
              "      <td>200.000000</td>\n",
              "      <td>200.000000</td>\n",
              "      <td>200.000000</td>\n",
              "      <td>200.000000</td>\n",
              "    </tr>\n",
              "    <tr>\n",
              "      <th>mean</th>\n",
              "      <td>100.500000</td>\n",
              "      <td>38.850000</td>\n",
              "      <td>60.560000</td>\n",
              "      <td>50.200000</td>\n",
              "    </tr>\n",
              "    <tr>\n",
              "      <th>std</th>\n",
              "      <td>57.879185</td>\n",
              "      <td>13.969007</td>\n",
              "      <td>26.264721</td>\n",
              "      <td>25.823522</td>\n",
              "    </tr>\n",
              "    <tr>\n",
              "      <th>min</th>\n",
              "      <td>1.000000</td>\n",
              "      <td>18.000000</td>\n",
              "      <td>15.000000</td>\n",
              "      <td>1.000000</td>\n",
              "    </tr>\n",
              "    <tr>\n",
              "      <th>25%</th>\n",
              "      <td>50.750000</td>\n",
              "      <td>28.750000</td>\n",
              "      <td>41.500000</td>\n",
              "      <td>34.750000</td>\n",
              "    </tr>\n",
              "    <tr>\n",
              "      <th>50%</th>\n",
              "      <td>100.500000</td>\n",
              "      <td>36.000000</td>\n",
              "      <td>61.500000</td>\n",
              "      <td>50.000000</td>\n",
              "    </tr>\n",
              "    <tr>\n",
              "      <th>75%</th>\n",
              "      <td>150.250000</td>\n",
              "      <td>49.000000</td>\n",
              "      <td>78.000000</td>\n",
              "      <td>73.000000</td>\n",
              "    </tr>\n",
              "    <tr>\n",
              "      <th>max</th>\n",
              "      <td>200.000000</td>\n",
              "      <td>70.000000</td>\n",
              "      <td>137.000000</td>\n",
              "      <td>99.000000</td>\n",
              "    </tr>\n",
              "  </tbody>\n",
              "</table>\n",
              "</div>"
            ],
            "text/plain": [
              "       CustomerID         Age  Annual Income (k$)  Spending Score (1-100)\n",
              "count  200.000000  200.000000          200.000000              200.000000\n",
              "mean   100.500000   38.850000           60.560000               50.200000\n",
              "std     57.879185   13.969007           26.264721               25.823522\n",
              "min      1.000000   18.000000           15.000000                1.000000\n",
              "25%     50.750000   28.750000           41.500000               34.750000\n",
              "50%    100.500000   36.000000           61.500000               50.000000\n",
              "75%    150.250000   49.000000           78.000000               73.000000\n",
              "max    200.000000   70.000000          137.000000               99.000000"
            ]
          },
          "execution_count": 16,
          "metadata": {},
          "output_type": "execute_result"
        }
      ],
      "source": [
        "data.describe()"
      ]
    },
    {
      "cell_type": "code",
      "execution_count": null,
      "id": "4bf56df0",
      "metadata": {
        "id": "4bf56df0",
        "outputId": "9519f544-e8e5-4d5d-c8e4-da4e64a65dcf"
      },
      "outputs": [
        {
          "data": {
            "text/plain": [
              "<bound method DataFrame.info of      CustomerID  Gender  Age  Annual Income (k$)  Spending Score (1-100)\n",
              "0             1    Male   19                  15                      39\n",
              "1             2    Male   21                  15                      81\n",
              "2             3  Female   20                  16                       6\n",
              "3             4  Female   23                  16                      77\n",
              "4             5  Female   31                  17                      40\n",
              "..          ...     ...  ...                 ...                     ...\n",
              "195         196  Female   35                 120                      79\n",
              "196         197  Female   45                 126                      28\n",
              "197         198    Male   32                 126                      74\n",
              "198         199    Male   32                 137                      18\n",
              "199         200    Male   30                 137                      83\n",
              "\n",
              "[200 rows x 5 columns]>"
            ]
          },
          "execution_count": 17,
          "metadata": {},
          "output_type": "execute_result"
        }
      ],
      "source": [
        "data.info"
      ]
    },
    {
      "cell_type": "code",
      "execution_count": null,
      "id": "d27aa34c",
      "metadata": {
        "id": "d27aa34c",
        "outputId": "659ee116-a534-433b-ec39-c780494c4b1b"
      },
      "outputs": [
        {
          "data": {
            "text/plain": [
              "(200, 5)"
            ]
          },
          "execution_count": 18,
          "metadata": {},
          "output_type": "execute_result"
        }
      ],
      "source": [
        "data.shape"
      ]
    },
    {
      "cell_type": "markdown",
      "id": "a33bc274",
      "metadata": {
        "id": "a33bc274"
      },
      "source": [
        "# 5.Checking for Missing values"
      ]
    },
    {
      "cell_type": "code",
      "execution_count": null,
      "id": "d1896314",
      "metadata": {
        "id": "d1896314",
        "outputId": "3384796b-32b1-4bd9-f90b-5f2afd82d43e"
      },
      "outputs": [
        {
          "data": {
            "text/plain": [
              "CustomerID                False\n",
              "Gender                    False\n",
              "Age                       False\n",
              "Annual Income (k$)        False\n",
              "Spending Score (1-100)    False\n",
              "dtype: bool"
            ]
          },
          "execution_count": 19,
          "metadata": {},
          "output_type": "execute_result"
        }
      ],
      "source": [
        "data.isnull().any()"
      ]
    },
    {
      "cell_type": "code",
      "execution_count": null,
      "id": "3f6c465c",
      "metadata": {
        "id": "3f6c465c",
        "outputId": "a35a763b-2945-4dce-9545-51373dc90031"
      },
      "outputs": [
        {
          "data": {
            "text/html": [
              "<div>\n",
              "<style scoped>\n",
              "    .dataframe tbody tr th:only-of-type {\n",
              "        vertical-align: middle;\n",
              "    }\n",
              "\n",
              "    .dataframe tbody tr th {\n",
              "        vertical-align: top;\n",
              "    }\n",
              "\n",
              "    .dataframe thead th {\n",
              "        text-align: right;\n",
              "    }\n",
              "</style>\n",
              "<table border=\"1\" class=\"dataframe\">\n",
              "  <thead>\n",
              "    <tr style=\"text-align: right;\">\n",
              "      <th></th>\n",
              "      <th>Gender</th>\n",
              "      <th>Age</th>\n",
              "      <th>Annual Income (k$)</th>\n",
              "      <th>Spending Score (1-100)</th>\n",
              "    </tr>\n",
              "  </thead>\n",
              "  <tbody>\n",
              "    <tr>\n",
              "      <th>0</th>\n",
              "      <td>Male</td>\n",
              "      <td>19</td>\n",
              "      <td>15</td>\n",
              "      <td>39</td>\n",
              "    </tr>\n",
              "    <tr>\n",
              "      <th>1</th>\n",
              "      <td>Male</td>\n",
              "      <td>21</td>\n",
              "      <td>15</td>\n",
              "      <td>81</td>\n",
              "    </tr>\n",
              "    <tr>\n",
              "      <th>2</th>\n",
              "      <td>Female</td>\n",
              "      <td>20</td>\n",
              "      <td>16</td>\n",
              "      <td>6</td>\n",
              "    </tr>\n",
              "    <tr>\n",
              "      <th>3</th>\n",
              "      <td>Female</td>\n",
              "      <td>23</td>\n",
              "      <td>16</td>\n",
              "      <td>77</td>\n",
              "    </tr>\n",
              "    <tr>\n",
              "      <th>4</th>\n",
              "      <td>Female</td>\n",
              "      <td>31</td>\n",
              "      <td>17</td>\n",
              "      <td>40</td>\n",
              "    </tr>\n",
              "  </tbody>\n",
              "</table>\n",
              "</div>"
            ],
            "text/plain": [
              "   Gender  Age  Annual Income (k$)  Spending Score (1-100)\n",
              "0    Male   19                  15                      39\n",
              "1    Male   21                  15                      81\n",
              "2  Female   20                  16                       6\n",
              "3  Female   23                  16                      77\n",
              "4  Female   31                  17                      40"
            ]
          },
          "execution_count": 20,
          "metadata": {},
          "output_type": "execute_result"
        }
      ],
      "source": [
        "data.drop('CustomerID',axis=1,inplace=True)\n",
        "data.head()"
      ]
    },
    {
      "cell_type": "markdown",
      "id": "13efdb7b",
      "metadata": {
        "id": "13efdb7b"
      },
      "source": [
        "# 6.Finding the outliers and replacing them\n"
      ]
    },
    {
      "cell_type": "code",
      "execution_count": null,
      "id": "95fe5aff",
      "metadata": {
        "id": "95fe5aff"
      },
      "outputs": [],
      "source": [
        "for i in data:\n",
        "    if data[i].dtype=='int64':\n",
        "        q1=data[i].quantile(0.25)\n",
        "        q3=data[i].quantile(0.75)\n",
        "        iqr=q3-q1\n",
        "        upper=q3+1.5*iqr\n",
        "        lower=q1-1.5*iqr\n",
        "        data[i]=np.where(data[i] >upper, upper, data[i])\n",
        "        data[i]=np.where(data[i] <lower, lower, data[i])"
      ]
    },
    {
      "cell_type": "markdown",
      "id": "32642e50",
      "metadata": {
        "id": "32642e50"
      },
      "source": [
        "# After removing outliers, boxplot will be like"
      ]
    },
    {
      "cell_type": "code",
      "execution_count": null,
      "id": "4a66f8da",
      "metadata": {
        "id": "4a66f8da",
        "outputId": "96653af8-8bf8-4e06-ccf5-e89946e45be1"
      },
      "outputs": [
        {
          "data": {
            "text/plain": [
              "{'whiskers': [<matplotlib.lines.Line2D at 0x26c7c29ce20>,\n",
              "  <matplotlib.lines.Line2D at 0x26c7c2ab1f0>],\n",
              " 'caps': [<matplotlib.lines.Line2D at 0x26c7c2ab580>,\n",
              "  <matplotlib.lines.Line2D at 0x26c7c2ab8b0>],\n",
              " 'boxes': [<matplotlib.lines.Line2D at 0x26c7c29ca90>],\n",
              " 'medians': [<matplotlib.lines.Line2D at 0x26c7c2abc40>],\n",
              " 'fliers': [<matplotlib.lines.Line2D at 0x26c7c2abfd0>],\n",
              " 'means': []}"
            ]
          },
          "execution_count": 22,
          "metadata": {},
          "output_type": "execute_result"
        },
        {
          "data": {
            "image/png": "[encoded data removed]",
            "text/plain": [
              "<Figure size 432x288 with 1 Axes>"
            ]
          },
          "metadata": {
            "needs_background": "light"
          },
          "output_type": "display_data"
        }
      ],
      "source": [
        "plt.boxplot(data['Age'])"
      ]
    },
    {
      "cell_type": "code",
      "execution_count": null,
      "id": "26eb39b3",
      "metadata": {
        "id": "26eb39b3",
        "outputId": "1af5e58a-6202-4904-945e-4804ee6d0f72"
      },
      "outputs": [
        {
          "data": {
            "text/plain": [
              "{'whiskers': [<matplotlib.lines.Line2D at 0x26c7c30f640>,\n",
              "  <matplotlib.lines.Line2D at 0x26c7c30f9d0>],\n",
              " 'caps': [<matplotlib.lines.Line2D at 0x26c7c30fd60>,\n",
              "  <matplotlib.lines.Line2D at 0x26c7c31a130>],\n",
              " 'boxes': [<matplotlib.lines.Line2D at 0x26c7c30f2b0>],\n",
              " 'medians': [<matplotlib.lines.Line2D at 0x26c7c31a4c0>],\n",
              " 'fliers': [<matplotlib.lines.Line2D at 0x26c7c31a850>],\n",
              " 'means': []}"
            ]
          },
          "execution_count": 23,
          "metadata": {},
          "output_type": "execute_result"
        },
        {
          "data": {
            "image/png": "[encoded data removed]",
            "text/plain": [
              "<Figure size 432x288 with 1 Axes>"
            ]
          },
          "metadata": {
            "needs_background": "light"
          },
          "output_type": "display_data"
        }
      ],
      "source": [
        "plt.boxplot(data['Annual Income (k$)'])"
      ]
    },
    {
      "cell_type": "code",
      "execution_count": null,
      "id": "e699b6bc",
      "metadata": {
        "id": "e699b6bc",
        "outputId": "e8d14f45-fbed-43c9-a438-d3c64c9d554a"
      },
      "outputs": [
        {
          "data": {
            "text/plain": [
              "{'whiskers': [<matplotlib.lines.Line2D at 0x26c7c37b040>,\n",
              "  <matplotlib.lines.Line2D at 0x26c7c37b3d0>],\n",
              " 'caps': [<matplotlib.lines.Line2D at 0x26c7c37b760>,\n",
              "  <matplotlib.lines.Line2D at 0x26c7c37baf0>],\n",
              " 'boxes': [<matplotlib.lines.Line2D at 0x26c7c36acd0>],\n",
              " 'medians': [<matplotlib.lines.Line2D at 0x26c7c37be80>],\n",
              " 'fliers': [<matplotlib.lines.Line2D at 0x26c7c386250>],\n",
              " 'means': []}"
            ]
          },
          "execution_count": 24,
          "metadata": {},
          "output_type": "execute_result"
        },
        {
          "data": {
            "image/png": "[encoded data removed]",
            "text/plain": [
              "<Figure size 432x288 with 1 Axes>"
            ]
          },
          "metadata": {
            "needs_background": "light"
          },
          "output_type": "display_data"
        }
      ],
      "source": [
        "plt.boxplot(data['Spending Score (1-100)'])"
      ]
    },
    {
      "cell_type": "markdown",
      "id": "3018b93b",
      "metadata": {
        "id": "3018b93b"
      },
      "source": [
        "# 7.Checking for categorical columns and performing encoding"
      ]
    },
    {
      "cell_type": "code",
      "execution_count": null,
      "id": "3f2a456c",
      "metadata": {
        "id": "3f2a456c"
      },
      "outputs": [],
      "source": [
        "from sklearn.preprocessing import LabelEncoder\n",
        "l_en = LabelEncoder()"
      ]
    },
    {
      "cell_type": "code",
      "execution_count": null,
      "id": "002e7db9",
      "metadata": {
        "id": "002e7db9",
        "outputId": "41cd6957-9a07-4c89-e0cd-30a39a676cc8"
      },
      "outputs": [
        {
          "data": {
            "text/html": [
              "<div>\n",
              "<style scoped>\n",
              "    .dataframe tbody tr th:only-of-type {\n",
              "        vertical-align: middle;\n",
              "    }\n",
              "\n",
              "    .dataframe tbody tr th {\n",
              "        vertical-align: top;\n",
              "    }\n",
              "\n",
              "    .dataframe thead th {\n",
              "        text-align: right;\n",
              "    }\n",
              "</style>\n",
              "<table border=\"1\" class=\"dataframe\">\n",
              "  <thead>\n",
              "    <tr style=\"text-align: right;\">\n",
              "      <th></th>\n",
              "      <th>Gender</th>\n",
              "      <th>Age</th>\n",
              "      <th>Annual Income (k$)</th>\n",
              "      <th>Spending Score (1-100)</th>\n",
              "    </tr>\n",
              "  </thead>\n",
              "  <tbody>\n",
              "    <tr>\n",
              "      <th>0</th>\n",
              "      <td>1</td>\n",
              "      <td>19.0</td>\n",
              "      <td>15.0</td>\n",
              "      <td>39.0</td>\n",
              "    </tr>\n",
              "    <tr>\n",
              "      <th>1</th>\n",
              "      <td>1</td>\n",
              "      <td>21.0</td>\n",
              "      <td>15.0</td>\n",
              "      <td>81.0</td>\n",
              "    </tr>\n",
              "    <tr>\n",
              "      <th>2</th>\n",
              "      <td>0</td>\n",
              "      <td>20.0</td>\n",
              "      <td>16.0</td>\n",
              "      <td>6.0</td>\n",
              "    </tr>\n",
              "    <tr>\n",
              "      <th>3</th>\n",
              "      <td>0</td>\n",
              "      <td>23.0</td>\n",
              "      <td>16.0</td>\n",
              "      <td>77.0</td>\n",
              "    </tr>\n",
              "    <tr>\n",
              "      <th>4</th>\n",
              "      <td>0</td>\n",
              "      <td>31.0</td>\n",
              "      <td>17.0</td>\n",
              "      <td>40.0</td>\n",
              "    </tr>\n",
              "  </tbody>\n",
              "</table>\n",
              "</div>"
            ],
            "text/plain": [
              "   Gender   Age  Annual Income (k$)  Spending Score (1-100)\n",
              "0       1  19.0                15.0                    39.0\n",
              "1       1  21.0                15.0                    81.0\n",
              "2       0  20.0                16.0                     6.0\n",
              "3       0  23.0                16.0                    77.0\n",
              "4       0  31.0                17.0                    40.0"
            ]
          },
          "execution_count": 26,
          "metadata": {},
          "output_type": "execute_result"
        }
      ],
      "source": [
        "data['Gender'] = l_en.fit_transform(data['Gender'])\n",
        "data.head()"
      ]
    },
    {
      "cell_type": "markdown",
      "id": "cf3a27a2",
      "metadata": {
        "id": "cf3a27a2"
      },
      "source": [
        "# 8.Scaling the data"
      ]
    },
    {
      "cell_type": "code",
      "execution_count": null,
      "id": "1a631900",
      "metadata": {
        "id": "1a631900",
        "outputId": "1e239078-2620-4cb6-c0a4-6add540d7d01"
      },
      "outputs": [
        {
          "data": {
            "text/plain": [
              "array([[1.        , 0.01923077, 0.        , 0.3877551 ],\n",
              "       [1.        , 0.05769231, 0.        , 0.81632653],\n",
              "       [0.        , 0.03846154, 0.00849257, 0.05102041],\n",
              "       [0.        , 0.09615385, 0.00849257, 0.7755102 ],\n",
              "       [0.        , 0.25      , 0.01698514, 0.39795918]])"
            ]
          },
          "execution_count": 27,
          "metadata": {},
          "output_type": "execute_result"
        }
      ],
      "source": [
        "from sklearn.preprocessing import MinMaxScaler\n",
        "scaler = MinMaxScaler()\n",
        "data_scaled = scaler.fit_transform(data)\n",
        "data_scaled[0:5]"
      ]
    },
    {
      "cell_type": "markdown",
      "id": "0b24b5d6",
      "metadata": {
        "id": "0b24b5d6"
      },
      "source": [
        "# 9.Performing any of the clustering algorithms"
      ]
    },
    {
      "cell_type": "code",
      "execution_count": null,
      "id": "e9c1717d",
      "metadata": {
        "id": "e9c1717d",
        "outputId": "cea32c7c-59e6-493e-ca9a-d06dde51cea3"
      },
      "outputs": [
        {
          "data": {
            "text/plain": [
              "array([6, 6, 3, 3, 3, 3, 7, 3, 4, 3, 4, 3, 7, 3, 2, 6, 3, 6, 4, 3, 6, 6,\n",
              "       7, 6, 7, 6, 7, 6, 7, 3, 4, 3, 4, 6, 7, 3, 7, 3, 7, 3, 7, 6, 4, 3,\n",
              "       7, 3, 7, 3, 3, 3, 7, 6, 3, 4, 7, 4, 7, 4, 3, 4, 4, 6, 7, 7, 4, 6,\n",
              "       7, 7, 6, 3, 4, 7, 7, 7, 4, 6, 7, 6, 3, 7, 4, 6, 4, 7, 3, 4, 7, 3,\n",
              "       3, 7, 7, 6, 4, 7, 3, 6, 7, 3, 4, 6, 3, 7, 4, 6, 4, 3, 7, 4, 4, 4,\n",
              "       4, 3, 1, 6, 3, 3, 7, 7, 7, 7, 6, 1, 5, 0, 1, 5, 2, 0, 4, 0, 2, 0,\n",
              "       1, 5, 2, 5, 1, 0, 2, 5, 1, 0, 1, 5, 2, 0, 2, 5, 1, 0, 2, 0, 1, 5,\n",
              "       1, 5, 2, 5, 2, 5, 7, 5, 2, 5, 2, 5, 2, 5, 1, 0, 2, 0, 2, 0, 1, 5,\n",
              "       2, 0, 2, 0, 1, 5, 2, 5, 1, 0, 1, 0, 1, 5, 1, 5, 2, 5, 1, 5, 1, 0,\n",
              "       2, 0])"
            ]
          },
          "execution_count": 28,
          "metadata": {},
          "output_type": "execute_result"
        }
      ],
      "source": [
        "from sklearn.cluster import KMeans\n",
        "km = KMeans()\n",
        "res = km.fit_predict(data_scaled)\n",
        "res"
      ]
    },
    {
      "cell_type": "code",
      "execution_count": null,
      "id": "ee9f680a",
      "metadata": {
        "id": "ee9f680a",
        "outputId": "3f17dcf2-cc7c-49e2-caa1-1a760fca6bac"
      },
      "outputs": [
        {
          "data": {
            "text/html": [
              "<div>\n",
              "<style scoped>\n",
              "    .dataframe tbody tr th:only-of-type {\n",
              "        vertical-align: middle;\n",
              "    }\n",
              "\n",
              "    .dataframe tbody tr th {\n",
              "        vertical-align: top;\n",
              "    }\n",
              "\n",
              "    .dataframe thead th {\n",
              "        text-align: right;\n",
              "    }\n",
              "</style>\n",
              "<table border=\"1\" class=\"dataframe\">\n",
              "  <thead>\n",
              "    <tr style=\"text-align: right;\">\n",
              "      <th></th>\n",
              "      <th>Gender</th>\n",
              "      <th>Age</th>\n",
              "      <th>Annual Income (k$)</th>\n",
              "      <th>Spending Score (1-100)</th>\n",
              "    </tr>\n",
              "  </thead>\n",
              "  <tbody>\n",
              "    <tr>\n",
              "      <th>0</th>\n",
              "      <td>1.0</td>\n",
              "      <td>0.019231</td>\n",
              "      <td>0.000000</td>\n",
              "      <td>0.387755</td>\n",
              "    </tr>\n",
              "    <tr>\n",
              "      <th>1</th>\n",
              "      <td>1.0</td>\n",
              "      <td>0.057692</td>\n",
              "      <td>0.000000</td>\n",
              "      <td>0.816327</td>\n",
              "    </tr>\n",
              "    <tr>\n",
              "      <th>2</th>\n",
              "      <td>0.0</td>\n",
              "      <td>0.038462</td>\n",
              "      <td>0.008493</td>\n",
              "      <td>0.051020</td>\n",
              "    </tr>\n",
              "    <tr>\n",
              "      <th>3</th>\n",
              "      <td>0.0</td>\n",
              "      <td>0.096154</td>\n",
              "      <td>0.008493</td>\n",
              "      <td>0.775510</td>\n",
              "    </tr>\n",
              "    <tr>\n",
              "      <th>4</th>\n",
              "      <td>0.0</td>\n",
              "      <td>0.250000</td>\n",
              "      <td>0.016985</td>\n",
              "      <td>0.397959</td>\n",
              "    </tr>\n",
              "  </tbody>\n",
              "</table>\n",
              "</div>"
            ],
            "text/plain": [
              "   Gender       Age  Annual Income (k$)  Spending Score (1-100)\n",
              "0     1.0  0.019231            0.000000                0.387755\n",
              "1     1.0  0.057692            0.000000                0.816327\n",
              "2     0.0  0.038462            0.008493                0.051020\n",
              "3     0.0  0.096154            0.008493                0.775510\n",
              "4     0.0  0.250000            0.016985                0.397959"
            ]
          },
          "execution_count": 29,
          "metadata": {},
          "output_type": "execute_result"
        }
      ],
      "source": [
        "data1 = pd.DataFrame(data_scaled, columns = data.columns)\n",
        "data1.head()"
      ]
    },
    {
      "cell_type": "code",
      "execution_count": null,
      "id": "cef1a8b0",
      "metadata": {
        "id": "cef1a8b0",
        "outputId": "761b9b72-ddcf-48df-e6ad-0e94a5faab49"
      },
      "outputs": [
        {
          "data": {
            "text/html": [
              "<div>\n",
              "<style scoped>\n",
              "    .dataframe tbody tr th:only-of-type {\n",
              "        vertical-align: middle;\n",
              "    }\n",
              "\n",
              "    .dataframe tbody tr th {\n",
              "        vertical-align: top;\n",
              "    }\n",
              "\n",
              "    .dataframe thead th {\n",
              "        text-align: right;\n",
              "    }\n",
              "</style>\n",
              "<table border=\"1\" class=\"dataframe\">\n",
              "  <thead>\n",
              "    <tr style=\"text-align: right;\">\n",
              "      <th></th>\n",
              "      <th>Gender</th>\n",
              "      <th>Age</th>\n",
              "      <th>Annual Income (k$)</th>\n",
              "      <th>Spending Score (1-100)</th>\n",
              "      <th>kclus</th>\n",
              "    </tr>\n",
              "  </thead>\n",
              "  <tbody>\n",
              "    <tr>\n",
              "      <th>0</th>\n",
              "      <td>1.0</td>\n",
              "      <td>0.019231</td>\n",
              "      <td>0.000000</td>\n",
              "      <td>0.387755</td>\n",
              "      <td>6</td>\n",
              "    </tr>\n",
              "    <tr>\n",
              "      <th>1</th>\n",
              "      <td>1.0</td>\n",
              "      <td>0.057692</td>\n",
              "      <td>0.000000</td>\n",
              "      <td>0.816327</td>\n",
              "      <td>6</td>\n",
              "    </tr>\n",
              "    <tr>\n",
              "      <th>2</th>\n",
              "      <td>0.0</td>\n",
              "      <td>0.038462</td>\n",
              "      <td>0.008493</td>\n",
              "      <td>0.051020</td>\n",
              "      <td>3</td>\n",
              "    </tr>\n",
              "    <tr>\n",
              "      <th>3</th>\n",
              "      <td>0.0</td>\n",
              "      <td>0.096154</td>\n",
              "      <td>0.008493</td>\n",
              "      <td>0.775510</td>\n",
              "      <td>3</td>\n",
              "    </tr>\n",
              "    <tr>\n",
              "      <th>4</th>\n",
              "      <td>0.0</td>\n",
              "      <td>0.250000</td>\n",
              "      <td>0.016985</td>\n",
              "      <td>0.397959</td>\n",
              "      <td>3</td>\n",
              "    </tr>\n",
              "  </tbody>\n",
              "</table>\n",
              "</div>"
            ],
            "text/plain": [
              "   Gender       Age  Annual Income (k$)  Spending Score (1-100)  kclus\n",
              "0     1.0  0.019231            0.000000                0.387755      6\n",
              "1     1.0  0.057692            0.000000                0.816327      6\n",
              "2     0.0  0.038462            0.008493                0.051020      3\n",
              "3     0.0  0.096154            0.008493                0.775510      3\n",
              "4     0.0  0.250000            0.016985                0.397959      3"
            ]
          },
          "execution_count": 30,
          "metadata": {},
          "output_type": "execute_result"
        }
      ],
      "source": [
        "data1['kclus']  = pd.Series(res)\n",
        "data1.head()"
      ]
    },
    {
      "cell_type": "code",
      "execution_count": null,
      "id": "3d502ba8",
      "metadata": {
        "id": "3d502ba8",
        "outputId": "eae1c21c-277b-43a1-9891-c95d0ed57f48"
      },
      "outputs": [
        {
          "data": {
            "text/plain": [
              "array([6, 3, 7, 4, 2, 1, 5, 0])"
            ]
          },
          "execution_count": 31,
          "metadata": {},
          "output_type": "execute_result"
        }
      ],
      "source": [
        "data1['kclus'].unique()"
      ]
    },
    {
      "cell_type": "code",
      "execution_count": null,
      "id": "fdc7591e",
      "metadata": {
        "id": "fdc7591e",
        "outputId": "f807da33-35b5-4107-eedd-a90a0715289c"
      },
      "outputs": [
        {
          "data": {
            "text/plain": [
              "7    37\n",
              "3    34\n",
              "4    26\n",
              "6    24\n",
              "5    22\n",
              "2    20\n",
              "1    19\n",
              "0    18\n",
              "Name: kclus, dtype: int64"
            ]
          },
          "execution_count": 32,
          "metadata": {},
          "output_type": "execute_result"
        }
      ],
      "source": [
        "data1['kclus'].value_counts()"
      ]
    },
    {
      "cell_type": "code",
      "execution_count": null,
      "id": "b3f51256",
      "metadata": {
        "id": "b3f51256",
        "outputId": "8751d406-79cb-4e08-b938-12ff7f8d8a86"
      },
      "outputs": [
        {
          "data": {
            "image/png": "[encoded data removed]",
            "text/plain": [
              "<Figure size 1080x576 with 1 Axes>"
            ]
          },
          "metadata": {
            "needs_background": "light"
          },
          "output_type": "display_data"
        }
      ],
      "source": [
        "import matplotlib.pyplot as plt\n",
        "\n",
        "fig,ax = plt.subplots(figsize=(15,8))\n",
        "sns.scatterplot(x=data1['Annual Income (k$)'],\n",
        "                y=data1['Spending Score (1-100)'],\n",
        "                hue=data1['kclus'],\n",
        "                palette='PuBuGn')\n",
        "plt.show()"
      ]
    },
    {
      "cell_type": "code",
      "source": [],
      "metadata": {
        "id": "6jhuQV3bRqDA"
      },
      "id": "6jhuQV3bRqDA",
      "execution_count": null,
      "outputs": []
    },
    {
      "cell_type": "markdown",
      "source": [
        "# 11.Split the data into dependent & independent"
      ],
      "metadata": {
        "id": "frtZvD_TRrq6"
      },
      "id": "frtZvD_TRrq6"
    },
    {
      "cell_type": "code",
      "execution_count": null,
      "id": "66a84a7f",
      "metadata": {
        "id": "66a84a7f",
        "outputId": "c9a0b29b-d5a1-4ace-ed0d-0d6d33b05754"
      },
      "outputs": [
        {
          "data": {
            "text/html": [
              "<div>\n",
              "<style scoped>\n",
              "    .dataframe tbody tr th:only-of-type {\n",
              "        vertical-align: middle;\n",
              "    }\n",
              "\n",
              "    .dataframe tbody tr th {\n",
              "        vertical-align: top;\n",
              "    }\n",
              "\n",
              "    .dataframe thead th {\n",
              "        text-align: right;\n",
              "    }\n",
              "</style>\n",
              "<table border=\"1\" class=\"dataframe\">\n",
              "  <thead>\n",
              "    <tr style=\"text-align: right;\">\n",
              "      <th></th>\n",
              "      <th>Gender</th>\n",
              "      <th>Age</th>\n",
              "      <th>Annual Income (k$)</th>\n",
              "      <th>Spending Score (1-100)</th>\n",
              "    </tr>\n",
              "  </thead>\n",
              "  <tbody>\n",
              "    <tr>\n",
              "      <th>0</th>\n",
              "      <td>1.0</td>\n",
              "      <td>0.019231</td>\n",
              "      <td>0.000000</td>\n",
              "      <td>0.387755</td>\n",
              "    </tr>\n",
              "    <tr>\n",
              "      <th>1</th>\n",
              "      <td>1.0</td>\n",
              "      <td>0.057692</td>\n",
              "      <td>0.000000</td>\n",
              "      <td>0.816327</td>\n",
              "    </tr>\n",
              "    <tr>\n",
              "      <th>2</th>\n",
              "      <td>0.0</td>\n",
              "      <td>0.038462</td>\n",
              "      <td>0.008493</td>\n",
              "      <td>0.051020</td>\n",
              "    </tr>\n",
              "    <tr>\n",
              "      <th>3</th>\n",
              "      <td>0.0</td>\n",
              "      <td>0.096154</td>\n",
              "      <td>0.008493</td>\n",
              "      <td>0.775510</td>\n",
              "    </tr>\n",
              "    <tr>\n",
              "      <th>4</th>\n",
              "      <td>0.0</td>\n",
              "      <td>0.250000</td>\n",
              "      <td>0.016985</td>\n",
              "      <td>0.397959</td>\n",
              "    </tr>\n",
              "  </tbody>\n",
              "</table>\n",
              "</div>"
            ],
            "text/plain": [
              "   Gender       Age  Annual Income (k$)  Spending Score (1-100)\n",
              "0     1.0  0.019231            0.000000                0.387755\n",
              "1     1.0  0.057692            0.000000                0.816327\n",
              "2     0.0  0.038462            0.008493                0.051020\n",
              "3     0.0  0.096154            0.008493                0.775510\n",
              "4     0.0  0.250000            0.016985                0.397959"
            ]
          },
          "execution_count": 34,
          "metadata": {},
          "output_type": "execute_result"
        }
      ],
      "source": [
        "ind = data1.iloc[:,0:4]\n",
        "ind.head()"
      ]
    },
    {
      "cell_type": "code",
      "execution_count": null,
      "id": "b15fc1c3",
      "metadata": {
        "id": "b15fc1c3",
        "outputId": "1f2b18f4-edbd-44fb-ff9f-91f4d9d3065e"
      },
      "outputs": [
        {
          "data": {
            "text/html": [
              "<div>\n",
              "<style scoped>\n",
              "    .dataframe tbody tr th:only-of-type {\n",
              "        vertical-align: middle;\n",
              "    }\n",
              "\n",
              "    .dataframe tbody tr th {\n",
              "        vertical-align: top;\n",
              "    }\n",
              "\n",
              "    .dataframe thead th {\n",
              "        text-align: right;\n",
              "    }\n",
              "</style>\n",
              "<table border=\"1\" class=\"dataframe\">\n",
              "  <thead>\n",
              "    <tr style=\"text-align: right;\">\n",
              "      <th></th>\n",
              "      <th>kclus</th>\n",
              "    </tr>\n",
              "  </thead>\n",
              "  <tbody>\n",
              "    <tr>\n",
              "      <th>0</th>\n",
              "      <td>6</td>\n",
              "    </tr>\n",
              "    <tr>\n",
              "      <th>1</th>\n",
              "      <td>6</td>\n",
              "    </tr>\n",
              "    <tr>\n",
              "      <th>2</th>\n",
              "      <td>3</td>\n",
              "    </tr>\n",
              "    <tr>\n",
              "      <th>3</th>\n",
              "      <td>3</td>\n",
              "    </tr>\n",
              "    <tr>\n",
              "      <th>4</th>\n",
              "      <td>3</td>\n",
              "    </tr>\n",
              "  </tbody>\n",
              "</table>\n",
              "</div>"
            ],
            "text/plain": [
              "   kclus\n",
              "0      6\n",
              "1      6\n",
              "2      3\n",
              "3      3\n",
              "4      3"
            ]
          },
          "execution_count": 35,
          "metadata": {},
          "output_type": "execute_result"
        }
      ],
      "source": [
        "dep = data1.iloc[:,4:]\n",
        "dep.head()"
      ]
    },
    {
      "cell_type": "markdown",
      "id": "e45b689b",
      "metadata": {
        "id": "e45b689b"
      },
      "source": [
        "# 12.Splitting dataset into train and test data"
      ]
    },
    {
      "cell_type": "code",
      "execution_count": null,
      "id": "52a58dd5",
      "metadata": {
        "id": "52a58dd5",
        "outputId": "c498ad92-cc40-4791-f2d1-65af1f64f4bb"
      },
      "outputs": [
        {
          "data": {
            "text/html": [
              "<div>\n",
              "<style scoped>\n",
              "    .dataframe tbody tr th:only-of-type {\n",
              "        vertical-align: middle;\n",
              "    }\n",
              "\n",
              "    .dataframe tbody tr th {\n",
              "        vertical-align: top;\n",
              "    }\n",
              "\n",
              "    .dataframe thead th {\n",
              "        text-align: right;\n",
              "    }\n",
              "</style>\n",
              "<table border=\"1\" class=\"dataframe\">\n",
              "  <thead>\n",
              "    <tr style=\"text-align: right;\">\n",
              "      <th></th>\n",
              "      <th>Gender</th>\n",
              "      <th>Age</th>\n",
              "      <th>Annual Income (k$)</th>\n",
              "      <th>Spending Score (1-100)</th>\n",
              "    </tr>\n",
              "  </thead>\n",
              "  <tbody>\n",
              "    <tr>\n",
              "      <th>116</th>\n",
              "      <td>0.0</td>\n",
              "      <td>0.865385</td>\n",
              "      <td>0.424628</td>\n",
              "      <td>0.428571</td>\n",
              "    </tr>\n",
              "    <tr>\n",
              "      <th>67</th>\n",
              "      <td>0.0</td>\n",
              "      <td>0.961538</td>\n",
              "      <td>0.280255</td>\n",
              "      <td>0.479592</td>\n",
              "    </tr>\n",
              "    <tr>\n",
              "      <th>78</th>\n",
              "      <td>0.0</td>\n",
              "      <td>0.096154</td>\n",
              "      <td>0.331210</td>\n",
              "      <td>0.520408</td>\n",
              "    </tr>\n",
              "    <tr>\n",
              "      <th>42</th>\n",
              "      <td>1.0</td>\n",
              "      <td>0.576923</td>\n",
              "      <td>0.203822</td>\n",
              "      <td>0.357143</td>\n",
              "    </tr>\n",
              "    <tr>\n",
              "      <th>17</th>\n",
              "      <td>1.0</td>\n",
              "      <td>0.038462</td>\n",
              "      <td>0.050955</td>\n",
              "      <td>0.663265</td>\n",
              "    </tr>\n",
              "  </tbody>\n",
              "</table>\n",
              "</div>"
            ],
            "text/plain": [
              "     Gender       Age  Annual Income (k$)  Spending Score (1-100)\n",
              "116     0.0  0.865385            0.424628                0.428571\n",
              "67      0.0  0.961538            0.280255                0.479592\n",
              "78      0.0  0.096154            0.331210                0.520408\n",
              "42      1.0  0.576923            0.203822                0.357143\n",
              "17      1.0  0.038462            0.050955                0.663265"
            ]
          },
          "execution_count": 36,
          "metadata": {},
          "output_type": "execute_result"
        }
      ],
      "source": [
        "from sklearn.model_selection import train_test_split\n",
        "x_train,x_test,y_train,y_test = train_test_split(ind,dep,test_size=0.3,random_state=1)\n",
        "x_train.head()"
      ]
    },
    {
      "cell_type": "code",
      "execution_count": null,
      "id": "2166eaf6",
      "metadata": {
        "id": "2166eaf6",
        "outputId": "6aab297f-78c9-4e41-ebc7-50cd3524f6a1"
      },
      "outputs": [
        {
          "data": {
            "text/html": [
              "<div>\n",
              "<style scoped>\n",
              "    .dataframe tbody tr th:only-of-type {\n",
              "        vertical-align: middle;\n",
              "    }\n",
              "\n",
              "    .dataframe tbody tr th {\n",
              "        vertical-align: top;\n",
              "    }\n",
              "\n",
              "    .dataframe thead th {\n",
              "        text-align: right;\n",
              "    }\n",
              "</style>\n",
              "<table border=\"1\" class=\"dataframe\">\n",
              "  <thead>\n",
              "    <tr style=\"text-align: right;\">\n",
              "      <th></th>\n",
              "      <th>Gender</th>\n",
              "      <th>Age</th>\n",
              "      <th>Annual Income (k$)</th>\n",
              "      <th>Spending Score (1-100)</th>\n",
              "    </tr>\n",
              "  </thead>\n",
              "  <tbody>\n",
              "    <tr>\n",
              "      <th>58</th>\n",
              "      <td>0.0</td>\n",
              "      <td>0.173077</td>\n",
              "      <td>0.263270</td>\n",
              "      <td>0.510204</td>\n",
              "    </tr>\n",
              "    <tr>\n",
              "      <th>40</th>\n",
              "      <td>0.0</td>\n",
              "      <td>0.903846</td>\n",
              "      <td>0.195329</td>\n",
              "      <td>0.346939</td>\n",
              "    </tr>\n",
              "    <tr>\n",
              "      <th>34</th>\n",
              "      <td>0.0</td>\n",
              "      <td>0.596154</td>\n",
              "      <td>0.152866</td>\n",
              "      <td>0.132653</td>\n",
              "    </tr>\n",
              "    <tr>\n",
              "      <th>102</th>\n",
              "      <td>1.0</td>\n",
              "      <td>0.942308</td>\n",
              "      <td>0.399151</td>\n",
              "      <td>0.591837</td>\n",
              "    </tr>\n",
              "    <tr>\n",
              "      <th>184</th>\n",
              "      <td>0.0</td>\n",
              "      <td>0.442308</td>\n",
              "      <td>0.713376</td>\n",
              "      <td>0.387755</td>\n",
              "    </tr>\n",
              "  </tbody>\n",
              "</table>\n",
              "</div>"
            ],
            "text/plain": [
              "     Gender       Age  Annual Income (k$)  Spending Score (1-100)\n",
              "58      0.0  0.173077            0.263270                0.510204\n",
              "40      0.0  0.903846            0.195329                0.346939\n",
              "34      0.0  0.596154            0.152866                0.132653\n",
              "102     1.0  0.942308            0.399151                0.591837\n",
              "184     0.0  0.442308            0.713376                0.387755"
            ]
          },
          "execution_count": 37,
          "metadata": {},
          "output_type": "execute_result"
        }
      ],
      "source": [
        "x_test.head()"
      ]
    },
    {
      "cell_type": "code",
      "execution_count": null,
      "id": "f2c55c30",
      "metadata": {
        "id": "f2c55c30",
        "outputId": "321e7465-541b-4b7b-eaab-f52534c1f88a"
      },
      "outputs": [
        {
          "data": {
            "text/html": [
              "<div>\n",
              "<style scoped>\n",
              "    .dataframe tbody tr th:only-of-type {\n",
              "        vertical-align: middle;\n",
              "    }\n",
              "\n",
              "    .dataframe tbody tr th {\n",
              "        vertical-align: top;\n",
              "    }\n",
              "\n",
              "    .dataframe thead th {\n",
              "        text-align: right;\n",
              "    }\n",
              "</style>\n",
              "<table border=\"1\" class=\"dataframe\">\n",
              "  <thead>\n",
              "    <tr style=\"text-align: right;\">\n",
              "      <th></th>\n",
              "      <th>kclus</th>\n",
              "    </tr>\n",
              "  </thead>\n",
              "  <tbody>\n",
              "    <tr>\n",
              "      <th>116</th>\n",
              "      <td>7</td>\n",
              "    </tr>\n",
              "    <tr>\n",
              "      <th>67</th>\n",
              "      <td>7</td>\n",
              "    </tr>\n",
              "    <tr>\n",
              "      <th>78</th>\n",
              "      <td>3</td>\n",
              "    </tr>\n",
              "    <tr>\n",
              "      <th>42</th>\n",
              "      <td>4</td>\n",
              "    </tr>\n",
              "    <tr>\n",
              "      <th>17</th>\n",
              "      <td>6</td>\n",
              "    </tr>\n",
              "  </tbody>\n",
              "</table>\n",
              "</div>"
            ],
            "text/plain": [
              "     kclus\n",
              "116      7\n",
              "67       7\n",
              "78       3\n",
              "42       4\n",
              "17       6"
            ]
          },
          "execution_count": 38,
          "metadata": {},
          "output_type": "execute_result"
        }
      ],
      "source": [
        "y_train.head()"
      ]
    },
    {
      "cell_type": "code",
      "execution_count": null,
      "id": "87a16950",
      "metadata": {
        "id": "87a16950",
        "outputId": "4183d4cc-d907-4094-a3cf-06be8b949359"
      },
      "outputs": [
        {
          "data": {
            "text/html": [
              "<div>\n",
              "<style scoped>\n",
              "    .dataframe tbody tr th:only-of-type {\n",
              "        vertical-align: middle;\n",
              "    }\n",
              "\n",
              "    .dataframe tbody tr th {\n",
              "        vertical-align: top;\n",
              "    }\n",
              "\n",
              "    .dataframe thead th {\n",
              "        text-align: right;\n",
              "    }\n",
              "</style>\n",
              "<table border=\"1\" class=\"dataframe\">\n",
              "  <thead>\n",
              "    <tr style=\"text-align: right;\">\n",
              "      <th></th>\n",
              "      <th>kclus</th>\n",
              "    </tr>\n",
              "  </thead>\n",
              "  <tbody>\n",
              "    <tr>\n",
              "      <th>58</th>\n",
              "      <td>3</td>\n",
              "    </tr>\n",
              "    <tr>\n",
              "      <th>40</th>\n",
              "      <td>7</td>\n",
              "    </tr>\n",
              "    <tr>\n",
              "      <th>34</th>\n",
              "      <td>7</td>\n",
              "    </tr>\n",
              "    <tr>\n",
              "      <th>102</th>\n",
              "      <td>4</td>\n",
              "    </tr>\n",
              "    <tr>\n",
              "      <th>184</th>\n",
              "      <td>1</td>\n",
              "    </tr>\n",
              "  </tbody>\n",
              "</table>\n",
              "</div>"
            ],
            "text/plain": [
              "     kclus\n",
              "58       3\n",
              "40       7\n",
              "34       7\n",
              "102      4\n",
              "184      1"
            ]
          },
          "execution_count": 39,
          "metadata": {},
          "output_type": "execute_result"
        }
      ],
      "source": [
        "y_test.head()"
      ]
    },
    {
      "cell_type": "code",
      "execution_count": null,
      "id": "6a0d26fd",
      "metadata": {
        "id": "6a0d26fd",
        "outputId": "6a54c249-eae7-4843-dc76-f0757e1881c7"
      },
      "outputs": [
        {
          "data": {
            "text/plain": [
              "LinearRegression()"
            ]
          },
          "execution_count": 40,
          "metadata": {},
          "output_type": "execute_result"
        }
      ],
      "source": [
        "from sklearn.linear_model import LinearRegression\n",
        "lr = LinearRegression()\n",
        "lr.fit(x_train,y_train)"
      ]
    },
    {
      "cell_type": "code",
      "execution_count": null,
      "id": "c8c2fb15",
      "metadata": {
        "id": "c8c2fb15",
        "outputId": "b22d2dc5-da22-4ed0-98b1-1c7a6d5fd81b"
      },
      "outputs": [
        {
          "data": {
            "text/plain": [
              "array([[4.70641196],\n",
              "       [6.16416253],\n",
              "       [5.62404615],\n",
              "       [4.38122245],\n",
              "       [2.74710202]])"
            ]
          },
          "execution_count": 41,
          "metadata": {},
          "output_type": "execute_result"
        }
      ],
      "source": [
        "pred_test = lr.predict(x_test)\n",
        "pred_test[0:5]"
      ]
    },
    {
      "cell_type": "markdown",
      "id": "c7a876d8",
      "metadata": {
        "id": "c7a876d8"
      },
      "source": [
        "# 16.Measuring the performance using metrics"
      ]
    },
    {
      "cell_type": "code",
      "execution_count": null,
      "id": "26620353",
      "metadata": {
        "id": "26620353",
        "outputId": "a74c5a62-4a12-4afb-8c6d-c02421cb2098"
      },
      "outputs": [
        {
          "name": "stdout",
          "output_type": "stream",
          "text": [
            "The Mean squared error is:  3.6346137380658865\n",
            "The Root mean squared error is:  1.9064662960739396\n",
            "The Mean absolute error is:  1.6808408986979164\n",
            "The accuracy is:  0.2729156780930656\n"
          ]
        }
      ],
      "source": [
        "from sklearn.metrics import mean_squared_error,mean_absolute_error\n",
        "from sklearn.metrics import accuracy_score\n",
        "mse = mean_squared_error(pred_test,y_test)\n",
        "print(\"The Mean squared error is: \", mse)\n",
        "rmse = np.sqrt(mse)\n",
        "print(\"The Root mean squared error is: \", rmse)\n",
        "mae = mean_absolute_error(pred_test,y_test)\n",
        "print(\"The Mean absolute error is: \", mae)\n",
        "acc = lr.score(x_test,y_test)\n",
        "print(\"The accuracy is: \", acc)"
      ]
    },
    {
      "cell_type": "code",
      "execution_count": null,
      "id": "cd070ee3",
      "metadata": {
        "id": "cd070ee3"
      },
      "outputs": [],
      "source": []
    }
  ],
  "metadata": {
    "kernelspec": {
      "display_name": "Python 3 (ipykernel)",
      "language": "python",
      "name": "python3"
    },
    "language_info": {
      "codemirror_mode": {
        "name": "ipython",
        "version": 3
      },
      "file_extension": ".py",
      "mimetype": "text/x-python",
      "name": "python",
      "nbconvert_exporter": "python",
      "pygments_lexer": "ipython3",
      "version": "3.9.7"
    },
    "colab": {
      "provenance": []
    }
  },
  "nbformat": 4,
  "nbformat_minor": 5
}